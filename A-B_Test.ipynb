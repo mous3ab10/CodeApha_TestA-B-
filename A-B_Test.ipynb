{
 "cells": [
  {
   "cell_type": "markdown",
   "id": "3f9921e8",
   "metadata": {},
   "source": [
    "# Overview"
   ]
  },
  {
   "cell_type": "markdown",
   "id": "ef880f81",
   "metadata": {},
   "source": [
    "#### This project focuses on analyzing and comparing the click-through rates (CTR) of two products, Product A and Product B, using various statistical methods. The goal is to determine which product performs better in terms of user engagement and to provide actionable insights based on the analysis."
   ]
  },
  {
   "cell_type": "code",
   "execution_count": null,
   "id": "ee9feff8",
   "metadata": {},
   "outputs": [],
   "source": []
  },
  {
   "cell_type": "markdown",
   "id": "8e6c6355",
   "metadata": {},
   "source": [
    "# Import Libraries"
   ]
  },
  {
   "cell_type": "code",
   "execution_count": 1,
   "id": "8092bc09",
   "metadata": {
    "execution": {
     "iopub.execute_input": "2024-08-24T18:57:39.387469Z",
     "iopub.status.busy": "2024-08-24T18:57:39.386328Z",
     "iopub.status.idle": "2024-08-24T18:57:41.854274Z",
     "shell.execute_reply": "2024-08-24T18:57:41.853071Z",
     "shell.execute_reply.started": "2024-08-24T18:57:39.387412Z"
    }
   },
   "outputs": [],
   "source": [
    "import pandas as pd\n",
    "import numpy as np\n",
    "import matplotlib.pyplot as plt\n",
    "import seaborn as sb\n",
    "from scipy.stats import beta , chi2_contingency"
   ]
  },
  {
   "cell_type": "markdown",
   "id": "ea7cbf68",
   "metadata": {},
   "source": [
    "# Data Understanding"
   ]
  },
  {
   "cell_type": "code",
   "execution_count": 2,
   "id": "d4063ad6",
   "metadata": {
    "execution": {
     "iopub.execute_input": "2024-08-24T18:57:41.859081Z",
     "iopub.status.busy": "2024-08-24T18:57:41.858322Z",
     "iopub.status.idle": "2024-08-24T18:57:41.904748Z",
     "shell.execute_reply": "2024-08-24T18:57:41.903451Z",
     "shell.execute_reply.started": "2024-08-24T18:57:41.859018Z"
    }
   },
   "outputs": [
    {
     "data": {
      "text/html": [
       "<div>\n",
       "<style scoped>\n",
       "    .dataframe tbody tr th:only-of-type {\n",
       "        vertical-align: middle;\n",
       "    }\n",
       "\n",
       "    .dataframe tbody tr th {\n",
       "        vertical-align: top;\n",
       "    }\n",
       "\n",
       "    .dataframe thead th {\n",
       "        text-align: right;\n",
       "    }\n",
       "</style>\n",
       "<table border=\"1\" class=\"dataframe\">\n",
       "  <thead>\n",
       "    <tr style=\"text-align: right;\">\n",
       "      <th></th>\n",
       "      <th>product</th>\n",
       "      <th>banner_clicked</th>\n",
       "    </tr>\n",
       "  </thead>\n",
       "  <tbody>\n",
       "    <tr>\n",
       "      <th>0</th>\n",
       "      <td>A</td>\n",
       "      <td>0</td>\n",
       "    </tr>\n",
       "    <tr>\n",
       "      <th>1</th>\n",
       "      <td>B</td>\n",
       "      <td>0</td>\n",
       "    </tr>\n",
       "    <tr>\n",
       "      <th>2</th>\n",
       "      <td>A</td>\n",
       "      <td>0</td>\n",
       "    </tr>\n",
       "    <tr>\n",
       "      <th>3</th>\n",
       "      <td>B</td>\n",
       "      <td>0</td>\n",
       "    </tr>\n",
       "    <tr>\n",
       "      <th>4</th>\n",
       "      <td>A</td>\n",
       "      <td>0</td>\n",
       "    </tr>\n",
       "    <tr>\n",
       "      <th>5</th>\n",
       "      <td>A</td>\n",
       "      <td>0</td>\n",
       "    </tr>\n",
       "    <tr>\n",
       "      <th>6</th>\n",
       "      <td>B</td>\n",
       "      <td>0</td>\n",
       "    </tr>\n",
       "    <tr>\n",
       "      <th>7</th>\n",
       "      <td>A</td>\n",
       "      <td>0</td>\n",
       "    </tr>\n",
       "    <tr>\n",
       "      <th>8</th>\n",
       "      <td>B</td>\n",
       "      <td>0</td>\n",
       "    </tr>\n",
       "    <tr>\n",
       "      <th>9</th>\n",
       "      <td>A</td>\n",
       "      <td>0</td>\n",
       "    </tr>\n",
       "  </tbody>\n",
       "</table>\n",
       "</div>"
      ],
      "text/plain": [
       "  product  banner_clicked\n",
       "0       A               0\n",
       "1       B               0\n",
       "2       A               0\n",
       "3       B               0\n",
       "4       A               0\n",
       "5       A               0\n",
       "6       B               0\n",
       "7       A               0\n",
       "8       B               0\n",
       "9       A               0"
      ]
     },
     "execution_count": 2,
     "metadata": {},
     "output_type": "execute_result"
    }
   ],
   "source": [
    "clicks = pd.read_csv(\"/kaggle/input/ab-test-of-online-advertising/clicks.csv\")\n",
    "clicks.head(10)"
   ]
  },
  {
   "cell_type": "code",
   "execution_count": 3,
   "id": "e71ee227",
   "metadata": {
    "execution": {
     "iopub.execute_input": "2024-08-24T18:57:41.907096Z",
     "iopub.status.busy": "2024-08-24T18:57:41.906588Z",
     "iopub.status.idle": "2024-08-24T18:57:41.915423Z",
     "shell.execute_reply": "2024-08-24T18:57:41.914020Z",
     "shell.execute_reply.started": "2024-08-24T18:57:41.907039Z"
    }
   },
   "outputs": [
    {
     "data": {
      "text/plain": [
       "(10000, 2)"
      ]
     },
     "execution_count": 3,
     "metadata": {},
     "output_type": "execute_result"
    }
   ],
   "source": [
    "clicks.shape"
   ]
  },
  {
   "cell_type": "code",
   "execution_count": 4,
   "id": "11ae2cd3",
   "metadata": {
    "execution": {
     "iopub.execute_input": "2024-08-24T18:57:41.919490Z",
     "iopub.status.busy": "2024-08-24T18:57:41.918976Z",
     "iopub.status.idle": "2024-08-24T18:57:41.942476Z",
     "shell.execute_reply": "2024-08-24T18:57:41.941003Z",
     "shell.execute_reply.started": "2024-08-24T18:57:41.919432Z"
    }
   },
   "outputs": [
    {
     "data": {
      "text/html": [
       "<div>\n",
       "<style scoped>\n",
       "    .dataframe tbody tr th:only-of-type {\n",
       "        vertical-align: middle;\n",
       "    }\n",
       "\n",
       "    .dataframe tbody tr th {\n",
       "        vertical-align: top;\n",
       "    }\n",
       "\n",
       "    .dataframe thead th {\n",
       "        text-align: right;\n",
       "    }\n",
       "</style>\n",
       "<table border=\"1\" class=\"dataframe\">\n",
       "  <thead>\n",
       "    <tr style=\"text-align: right;\">\n",
       "      <th></th>\n",
       "      <th>product</th>\n",
       "      <th>banner_clicked</th>\n",
       "    </tr>\n",
       "  </thead>\n",
       "  <tbody>\n",
       "    <tr>\n",
       "      <th>3175</th>\n",
       "      <td>A</td>\n",
       "      <td>1</td>\n",
       "    </tr>\n",
       "    <tr>\n",
       "      <th>9048</th>\n",
       "      <td>B</td>\n",
       "      <td>0</td>\n",
       "    </tr>\n",
       "    <tr>\n",
       "      <th>7498</th>\n",
       "      <td>A</td>\n",
       "      <td>0</td>\n",
       "    </tr>\n",
       "    <tr>\n",
       "      <th>8395</th>\n",
       "      <td>B</td>\n",
       "      <td>0</td>\n",
       "    </tr>\n",
       "    <tr>\n",
       "      <th>1957</th>\n",
       "      <td>A</td>\n",
       "      <td>0</td>\n",
       "    </tr>\n",
       "  </tbody>\n",
       "</table>\n",
       "</div>"
      ],
      "text/plain": [
       "     product  banner_clicked\n",
       "3175       A               1\n",
       "9048       B               0\n",
       "7498       A               0\n",
       "8395       B               0\n",
       "1957       A               0"
      ]
     },
     "execution_count": 4,
     "metadata": {},
     "output_type": "execute_result"
    }
   ],
   "source": [
    "clicks.sample(5)"
   ]
  },
  {
   "cell_type": "code",
   "execution_count": 5,
   "id": "9d706044",
   "metadata": {
    "execution": {
     "iopub.execute_input": "2024-08-24T18:57:41.947574Z",
     "iopub.status.busy": "2024-08-24T18:57:41.946247Z",
     "iopub.status.idle": "2024-08-24T18:57:41.966740Z",
     "shell.execute_reply": "2024-08-24T18:57:41.965128Z",
     "shell.execute_reply.started": "2024-08-24T18:57:41.947486Z"
    }
   },
   "outputs": [
    {
     "data": {
      "text/plain": [
       "product\n",
       "A    5028\n",
       "B    4972\n",
       "Name: count, dtype: int64"
      ]
     },
     "execution_count": 5,
     "metadata": {},
     "output_type": "execute_result"
    }
   ],
   "source": [
    "clicks[\"product\"].value_counts()"
   ]
  },
  {
   "cell_type": "code",
   "execution_count": 6,
   "id": "40194136",
   "metadata": {
    "execution": {
     "iopub.execute_input": "2024-08-24T18:57:41.968934Z",
     "iopub.status.busy": "2024-08-24T18:57:41.968372Z",
     "iopub.status.idle": "2024-08-24T18:57:41.982280Z",
     "shell.execute_reply": "2024-08-24T18:57:41.980930Z",
     "shell.execute_reply.started": "2024-08-24T18:57:41.968880Z"
    }
   },
   "outputs": [
    {
     "data": {
      "text/plain": [
       "banner_clicked\n",
       "0    8766\n",
       "1    1234\n",
       "Name: count, dtype: int64"
      ]
     },
     "execution_count": 6,
     "metadata": {},
     "output_type": "execute_result"
    }
   ],
   "source": [
    "clicks[\"banner_clicked\"].value_counts()"
   ]
  },
  {
   "cell_type": "code",
   "execution_count": 7,
   "id": "2d274e42",
   "metadata": {
    "execution": {
     "iopub.execute_input": "2024-08-24T18:57:41.984834Z",
     "iopub.status.busy": "2024-08-24T18:57:41.984259Z",
     "iopub.status.idle": "2024-08-24T18:57:41.999933Z",
     "shell.execute_reply": "2024-08-24T18:57:41.998451Z",
     "shell.execute_reply.started": "2024-08-24T18:57:41.984772Z"
    }
   },
   "outputs": [
    {
     "data": {
      "text/plain": [
       "product           0\n",
       "banner_clicked    0\n",
       "dtype: int64"
      ]
     },
     "execution_count": 7,
     "metadata": {},
     "output_type": "execute_result"
    }
   ],
   "source": [
    "clicks.isnull().sum()"
   ]
  },
  {
   "cell_type": "code",
   "execution_count": 8,
   "id": "4dc5a4a7",
   "metadata": {
    "execution": {
     "iopub.execute_input": "2024-08-24T18:57:42.002141Z",
     "iopub.status.busy": "2024-08-24T18:57:42.001734Z",
     "iopub.status.idle": "2024-08-24T18:57:42.025022Z",
     "shell.execute_reply": "2024-08-24T18:57:42.023859Z",
     "shell.execute_reply.started": "2024-08-24T18:57:42.002094Z"
    }
   },
   "outputs": [
    {
     "data": {
      "text/html": [
       "<div>\n",
       "<style scoped>\n",
       "    .dataframe tbody tr th:only-of-type {\n",
       "        vertical-align: middle;\n",
       "    }\n",
       "\n",
       "    .dataframe tbody tr th {\n",
       "        vertical-align: top;\n",
       "    }\n",
       "\n",
       "    .dataframe thead th {\n",
       "        text-align: right;\n",
       "    }\n",
       "</style>\n",
       "<table border=\"1\" class=\"dataframe\">\n",
       "  <thead>\n",
       "    <tr style=\"text-align: right;\">\n",
       "      <th></th>\n",
       "      <th>banner_clicked</th>\n",
       "    </tr>\n",
       "  </thead>\n",
       "  <tbody>\n",
       "    <tr>\n",
       "      <th>count</th>\n",
       "      <td>10000.000000</td>\n",
       "    </tr>\n",
       "    <tr>\n",
       "      <th>mean</th>\n",
       "      <td>0.123400</td>\n",
       "    </tr>\n",
       "    <tr>\n",
       "      <th>std</th>\n",
       "      <td>0.328912</td>\n",
       "    </tr>\n",
       "    <tr>\n",
       "      <th>min</th>\n",
       "      <td>0.000000</td>\n",
       "    </tr>\n",
       "    <tr>\n",
       "      <th>25%</th>\n",
       "      <td>0.000000</td>\n",
       "    </tr>\n",
       "    <tr>\n",
       "      <th>50%</th>\n",
       "      <td>0.000000</td>\n",
       "    </tr>\n",
       "    <tr>\n",
       "      <th>75%</th>\n",
       "      <td>0.000000</td>\n",
       "    </tr>\n",
       "    <tr>\n",
       "      <th>max</th>\n",
       "      <td>1.000000</td>\n",
       "    </tr>\n",
       "  </tbody>\n",
       "</table>\n",
       "</div>"
      ],
      "text/plain": [
       "       banner_clicked\n",
       "count    10000.000000\n",
       "mean         0.123400\n",
       "std          0.328912\n",
       "min          0.000000\n",
       "25%          0.000000\n",
       "50%          0.000000\n",
       "75%          0.000000\n",
       "max          1.000000"
      ]
     },
     "execution_count": 8,
     "metadata": {},
     "output_type": "execute_result"
    }
   ],
   "source": [
    "clicks.describe()"
   ]
  },
  {
   "cell_type": "markdown",
   "id": "99bcc1e2",
   "metadata": {},
   "source": [
    "# Data Exploration (EDA)"
   ]
  },
  {
   "cell_type": "code",
   "execution_count": 9,
   "id": "415d8e57",
   "metadata": {
    "execution": {
     "iopub.execute_input": "2024-08-24T18:57:42.026918Z",
     "iopub.status.busy": "2024-08-24T18:57:42.026511Z",
     "iopub.status.idle": "2024-08-24T18:57:42.038639Z",
     "shell.execute_reply": "2024-08-24T18:57:42.037303Z",
     "shell.execute_reply.started": "2024-08-24T18:57:42.026877Z"
    }
   },
   "outputs": [
    {
     "data": {
      "text/html": [
       "<div>\n",
       "<style scoped>\n",
       "    .dataframe tbody tr th:only-of-type {\n",
       "        vertical-align: middle;\n",
       "    }\n",
       "\n",
       "    .dataframe tbody tr th {\n",
       "        vertical-align: top;\n",
       "    }\n",
       "\n",
       "    .dataframe thead th {\n",
       "        text-align: right;\n",
       "    }\n",
       "</style>\n",
       "<table border=\"1\" class=\"dataframe\">\n",
       "  <thead>\n",
       "    <tr style=\"text-align: right;\">\n",
       "      <th></th>\n",
       "      <th>product</th>\n",
       "      <th>banner_clicked</th>\n",
       "    </tr>\n",
       "  </thead>\n",
       "  <tbody>\n",
       "    <tr>\n",
       "      <th>0</th>\n",
       "      <td>A</td>\n",
       "      <td>0</td>\n",
       "    </tr>\n",
       "    <tr>\n",
       "      <th>1</th>\n",
       "      <td>B</td>\n",
       "      <td>0</td>\n",
       "    </tr>\n",
       "    <tr>\n",
       "      <th>2</th>\n",
       "      <td>A</td>\n",
       "      <td>0</td>\n",
       "    </tr>\n",
       "    <tr>\n",
       "      <th>3</th>\n",
       "      <td>B</td>\n",
       "      <td>0</td>\n",
       "    </tr>\n",
       "    <tr>\n",
       "      <th>4</th>\n",
       "      <td>A</td>\n",
       "      <td>0</td>\n",
       "    </tr>\n",
       "  </tbody>\n",
       "</table>\n",
       "</div>"
      ],
      "text/plain": [
       "  product  banner_clicked\n",
       "0       A               0\n",
       "1       B               0\n",
       "2       A               0\n",
       "3       B               0\n",
       "4       A               0"
      ]
     },
     "execution_count": 9,
     "metadata": {},
     "output_type": "execute_result"
    }
   ],
   "source": [
    "clicks.head()"
   ]
  },
  {
   "cell_type": "code",
   "execution_count": 10,
   "id": "fd8d2e60",
   "metadata": {
    "execution": {
     "iopub.execute_input": "2024-08-24T18:57:42.043883Z",
     "iopub.status.busy": "2024-08-24T18:57:42.043114Z",
     "iopub.status.idle": "2024-08-24T18:57:42.481915Z",
     "shell.execute_reply": "2024-08-24T18:57:42.480569Z",
     "shell.execute_reply.started": "2024-08-24T18:57:42.043815Z"
    }
   },
   "outputs": [
    {
     "data": {
      "image/png": "[encoded data removed]",
      "text/plain": [
       "<Figure size 1000x500 with 2 Axes>"
      ]
     },
     "metadata": {},
     "output_type": "display_data"
    }
   ],
   "source": [
    "plt.figure(figsize = [10 , 5])\n",
    "\n",
    "plt.subplot(1 , 2 , 1)\n",
    "sb.countplot(data = clicks , x = \"product\")\n",
    "\n",
    "plt.subplot(1 , 2 , 2)\n",
    "sb.countplot(data = clicks , x = \"banner_clicked\");"
   ]
  },
  {
   "cell_type": "code",
   "execution_count": 11,
   "id": "3e255928",
   "metadata": {
    "execution": {
     "iopub.execute_input": "2024-08-24T18:57:42.484263Z",
     "iopub.status.busy": "2024-08-24T18:57:42.483762Z",
     "iopub.status.idle": "2024-08-24T18:57:42.854253Z",
     "shell.execute_reply": "2024-08-24T18:57:42.852814Z",
     "shell.execute_reply.started": "2024-08-24T18:57:42.484195Z"
    }
   },
   "outputs": [
    {
     "data": {
      "image/png": "[encoded data removed]",
      "text/plain": [
       "<Figure size 1000x500 with 2 Axes>"
      ]
     },
     "metadata": {},
     "output_type": "display_data"
    }
   ],
   "source": [
    "A_clicks = clicks[clicks[\"product\"] == \"A\"]\n",
    "B_clicks = clicks[clicks[\"product\"] == \"B\"]\n",
    "\n",
    "plt.figure(figsize = [10 , 5])\n",
    "\n",
    "plt.subplot(1 , 2 , 1)\n",
    "sb.countplot(data = A_clicks , x = \"banner_clicked\")\n",
    "plt.xlabel(\"A Banner Clicked\")\n",
    "\n",
    "plt.subplot(1 , 2 , 2)\n",
    "sb.countplot(data = B_clicks , x = \"banner_clicked\")\n",
    "plt.xlabel(\"B Banner Clicked\");"
   ]
  },
  {
   "cell_type": "code",
   "execution_count": 12,
   "id": "c3b8f902",
   "metadata": {
    "execution": {
     "iopub.execute_input": "2024-08-24T18:57:42.856338Z",
     "iopub.status.busy": "2024-08-24T18:57:42.855843Z",
     "iopub.status.idle": "2024-08-24T18:57:42.867378Z",
     "shell.execute_reply": "2024-08-24T18:57:42.865794Z",
     "shell.execute_reply.started": "2024-08-24T18:57:42.856281Z"
    }
   },
   "outputs": [
    {
     "name": "stdout",
     "output_type": "stream",
     "text": [
      "banner_clicked\n",
      "0    4374\n",
      "1     654\n",
      "Name: count, dtype: int64\n",
      "banner_clicked\n",
      "0    4392\n",
      "1     580\n",
      "Name: count, dtype: int64\n"
     ]
    }
   ],
   "source": [
    "print(A_clicks[\"banner_clicked\"].value_counts())\n",
    "print(B_clicks[\"banner_clicked\"].value_counts())"
   ]
  },
  {
   "cell_type": "markdown",
   "id": "ea9b13c7",
   "metadata": {},
   "source": [
    "## CTR Calculation"
   ]
  },
  {
   "cell_type": "code",
   "execution_count": 13,
   "id": "b1ca8722",
   "metadata": {
    "execution": {
     "iopub.execute_input": "2024-08-24T18:57:42.869231Z",
     "iopub.status.busy": "2024-08-24T18:57:42.868737Z",
     "iopub.status.idle": "2024-08-24T18:57:42.877635Z",
     "shell.execute_reply": "2024-08-24T18:57:42.876205Z",
     "shell.execute_reply.started": "2024-08-24T18:57:42.869167Z"
    }
   },
   "outputs": [],
   "source": [
    "A_ctr = A_clicks[\"banner_clicked\"].mean() \n",
    "B_ctr = B_clicks[\"banner_clicked\"].mean()"
   ]
  },
  {
   "cell_type": "code",
   "execution_count": 14,
   "id": "0f3f7812",
   "metadata": {
    "execution": {
     "iopub.execute_input": "2024-08-24T18:57:42.879964Z",
     "iopub.status.busy": "2024-08-24T18:57:42.879298Z",
     "iopub.status.idle": "2024-08-24T18:57:42.892176Z",
     "shell.execute_reply": "2024-08-24T18:57:42.890685Z",
     "shell.execute_reply.started": "2024-08-24T18:57:42.879915Z"
    }
   },
   "outputs": [
    {
     "name": "stdout",
     "output_type": "stream",
     "text": [
      "CTR for Product A: 13.01%\n",
      "CTR for Product B: 11.67%\n"
     ]
    }
   ],
   "source": [
    "print(f\"CTR for Product A: {A_ctr:.2%}\")\n",
    "print(f\"CTR for Product B: {B_ctr:.2%}\")"
   ]
  },
  {
   "cell_type": "code",
   "execution_count": 15,
   "id": "b38a7f93",
   "metadata": {
    "execution": {
     "iopub.execute_input": "2024-08-24T18:57:42.894202Z",
     "iopub.status.busy": "2024-08-24T18:57:42.893773Z",
     "iopub.status.idle": "2024-08-24T18:57:43.194139Z",
     "shell.execute_reply": "2024-08-24T18:57:43.192702Z",
     "shell.execute_reply.started": "2024-08-24T18:57:42.894155Z"
    }
   },
   "outputs": [
    {
     "data": {
      "image/png": "[encoded data removed]",
      "text/plain": [
       "<Figure size 640x480 with 1 Axes>"
      ]
     },
     "metadata": {},
     "output_type": "display_data"
    }
   ],
   "source": [
    "click_rates = clicks.groupby('product')['banner_clicked'].mean()\n",
    "click_rates.plot(kind='bar', color=['blue', 'orange'])\n",
    "plt.ylabel('Click Rate')\n",
    "plt.title('Click Rate by Product')\n",
    "plt.show()"
   ]
  },
  {
   "cell_type": "markdown",
   "id": "85d946ae",
   "metadata": {},
   "source": [
    "## Bayesian Analysis"
   ]
  },
  {
   "cell_type": "code",
   "execution_count": 16,
   "id": "d672e192",
   "metadata": {
    "execution": {
     "iopub.execute_input": "2024-08-24T18:57:43.196800Z",
     "iopub.status.busy": "2024-08-24T18:57:43.196272Z",
     "iopub.status.idle": "2024-08-24T18:57:43.203629Z",
     "shell.execute_reply": "2024-08-24T18:57:43.202238Z",
     "shell.execute_reply.started": "2024-08-24T18:57:43.196738Z"
    }
   },
   "outputs": [],
   "source": [
    "n_clicks_a = A_clicks['banner_clicked'].sum()\n",
    "n_total_a = len(A_clicks)\n",
    "\n",
    "n_clicks_b = B_clicks['banner_clicked'].sum()\n",
    "n_total_b = len(B_clicks)"
   ]
  },
  {
   "cell_type": "code",
   "execution_count": 17,
   "id": "a7aa3725",
   "metadata": {
    "execution": {
     "iopub.execute_input": "2024-08-24T18:57:43.206039Z",
     "iopub.status.busy": "2024-08-24T18:57:43.205499Z",
     "iopub.status.idle": "2024-08-24T18:57:43.215199Z",
     "shell.execute_reply": "2024-08-24T18:57:43.213928Z",
     "shell.execute_reply.started": "2024-08-24T18:57:43.205981Z"
    }
   },
   "outputs": [],
   "source": [
    "alpha_prior = 1\n",
    "beta_prior = 5"
   ]
  },
  {
   "cell_type": "code",
   "execution_count": 18,
   "id": "d17e33b5",
   "metadata": {
    "execution": {
     "iopub.execute_input": "2024-08-24T18:57:43.217950Z",
     "iopub.status.busy": "2024-08-24T18:57:43.217420Z",
     "iopub.status.idle": "2024-08-24T18:57:43.232444Z",
     "shell.execute_reply": "2024-08-24T18:57:43.231065Z",
     "shell.execute_reply.started": "2024-08-24T18:57:43.217894Z"
    }
   },
   "outputs": [],
   "source": [
    "alpha_post_a = alpha_prior + n_clicks_a\n",
    "beta_post_a = beta_prior + n_total_a - n_clicks_a"
   ]
  },
  {
   "cell_type": "code",
   "execution_count": 19,
   "id": "a37432c9",
   "metadata": {
    "execution": {
     "iopub.execute_input": "2024-08-24T18:57:43.238077Z",
     "iopub.status.busy": "2024-08-24T18:57:43.237563Z",
     "iopub.status.idle": "2024-08-24T18:57:43.245258Z",
     "shell.execute_reply": "2024-08-24T18:57:43.243946Z",
     "shell.execute_reply.started": "2024-08-24T18:57:43.238007Z"
    }
   },
   "outputs": [],
   "source": [
    "alpha_post_b = alpha_prior + n_clicks_b\n",
    "beta_post_b = beta_prior + n_total_b - n_clicks_b"
   ]
  },
  {
   "cell_type": "code",
   "execution_count": 20,
   "id": "3ba79af2",
   "metadata": {
    "execution": {
     "iopub.execute_input": "2024-08-24T18:57:43.247067Z",
     "iopub.status.busy": "2024-08-24T18:57:43.246579Z",
     "iopub.status.idle": "2024-08-24T18:57:43.601582Z",
     "shell.execute_reply": "2024-08-24T18:57:43.600298Z",
     "shell.execute_reply.started": "2024-08-24T18:57:43.247006Z"
    }
   },
   "outputs": [
    {
     "data": {
      "image/png": "[encoded data removed]",
      "text/plain": [
       "<Figure size 640x480 with 1 Axes>"
      ]
     },
     "metadata": {},
     "output_type": "display_data"
    },
    {
     "name": "stdout",
     "output_type": "stream",
     "text": [
      "Probability that Product A is better than Product B: 97.95%\n"
     ]
    }
   ],
   "source": [
    "samples_a = np.random.beta(alpha_post_a, beta_post_a, 100000)\n",
    "samples_b = np.random.beta(alpha_post_b, beta_post_b, 100000)\n",
    "\n",
    "prob_a_better_than_b = np.mean(samples_a > samples_b)\n",
    "\n",
    "x = np.linspace(0, 1, 1000)\n",
    "y_a = beta.pdf(x, alpha_post_a, beta_post_a)\n",
    "y_b = beta.pdf(x, alpha_post_b, beta_post_b)\n",
    "\n",
    "\n",
    "plt.plot(x, y_a, label='Product A')\n",
    "plt.plot(x, y_b, label='Product B')\n",
    "plt.title('Posterior Distributions of Click Rates')\n",
    "plt.xlabel('Click Rate')\n",
    "plt.ylabel('Density')\n",
    "plt.legend()\n",
    "plt.show()\n",
    "\n",
    "print(f\"Probability that Product A is better than Product B: {prob_a_better_than_b:.2%}\")"
   ]
  },
  {
   "cell_type": "code",
   "execution_count": 21,
   "id": "b0ef1b9b",
   "metadata": {
    "execution": {
     "iopub.execute_input": "2024-08-24T18:57:43.603603Z",
     "iopub.status.busy": "2024-08-24T18:57:43.603178Z",
     "iopub.status.idle": "2024-08-24T18:57:43.619717Z",
     "shell.execute_reply": "2024-08-24T18:57:43.618212Z",
     "shell.execute_reply.started": "2024-08-24T18:57:43.603551Z"
    }
   },
   "outputs": [
    {
     "name": "stdout",
     "output_type": "stream",
     "text": [
      "Click Distribution by Product:\n",
      "product\n",
      "A    0.529984\n",
      "B    0.470016\n",
      "Name: proportion, dtype: float64\n",
      "Non-Click Distribution by Product:\n",
      "product\n",
      "B    0.501027\n",
      "A    0.498973\n",
      "Name: proportion, dtype: float64\n"
     ]
    }
   ],
   "source": [
    "clicks_df = clicks[clicks['banner_clicked'] == 1]\n",
    "non_clicks_df = clicks[clicks['banner_clicked'] == 0]\n",
    "\n",
    "# Example: Distribution of clicks by product\n",
    "clicks_distribution = clicks_df['product'].value_counts(normalize=True)\n",
    "non_clicks_distribution = non_clicks_df['product'].value_counts(normalize=True)\n",
    "\n",
    "print(\"Click Distribution by Product:\")\n",
    "print(clicks_distribution)\n",
    "\n",
    "print(\"Non-Click Distribution by Product:\")\n",
    "print(non_clicks_distribution)"
   ]
  },
  {
   "cell_type": "markdown",
   "id": "43a09bb3",
   "metadata": {},
   "source": [
    "## Chi - Square Test"
   ]
  },
  {
   "cell_type": "code",
   "execution_count": 22,
   "id": "ffa40ff4",
   "metadata": {
    "execution": {
     "iopub.execute_input": "2024-08-24T18:57:43.622186Z",
     "iopub.status.busy": "2024-08-24T18:57:43.621637Z",
     "iopub.status.idle": "2024-08-24T18:57:43.653042Z",
     "shell.execute_reply": "2024-08-24T18:57:43.651590Z",
     "shell.execute_reply.started": "2024-08-24T18:57:43.622136Z"
    }
   },
   "outputs": [
    {
     "name": "stdout",
     "output_type": "stream",
     "text": [
      "Chi-Square Test p-value: 0.0445\n"
     ]
    }
   ],
   "source": [
    "contingency_table = pd.crosstab(clicks['product'], clicks['banner_clicked'])\n",
    "\n",
    "# Perform Chi-Square test\n",
    "chi2_stat, p_value, dof, expected = chi2_contingency(contingency_table)\n",
    "print(f\"Chi-Square Test p-value: {p_value:.4f}\")"
   ]
  }
 ],
 "metadata": {
  "kaggle": {
   "accelerator": "none",
   "dataSources": [
    {
     "datasetId": 3722325,
     "sourceId": 6448015,
     "sourceType": "datasetVersion"
    }
   ],
   "dockerImageVersionId": 30761,
   "isGpuEnabled": false,
   "isInternetEnabled": true,
   "language": "python",
   "sourceType": "notebook"
  },
  "kernelspec": {
   "display_name": "Python 3 (ipykernel)",
   "language": "python",
   "name": "python3"
  },
  "language_info": {
   "codemirror_mode": {
    "name": "ipython",
    "version": 3
   },
   "file_extension": ".py",
   "mimetype": "text/x-python",
   "name": "python",
   "nbconvert_exporter": "python",
   "pygments_lexer": "ipython3",
   "version": "3.11.5"
  }
 },
 "nbformat": 4,
 "nbformat_minor": 5
}
